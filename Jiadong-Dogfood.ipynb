{
 "cells": [
  {
   "cell_type": "code",
   "execution_count": 2,
   "id": "7e081ebf-ebe1-4a39-bb04-7a53411bb4c2",
   "metadata": {},
   "outputs": [
    {
     "name": "stdout",
     "output_type": "stream",
     "text": [
      "/opt/homebrew/Cellar/jupyterlab/3.4.3/libexec/bin/python3.10\n"
     ]
    }
   ],
   "source": [
    "import sys\n",
    "print(sys.executable) "
   ]
  },
  {
   "cell_type": "code",
   "execution_count": 3,
   "id": "6c8a41fc-df24-4bb3-b7b1-e8b24d86feb8",
   "metadata": {},
   "outputs": [],
   "source": [
    "import pandas as pd"
   ]
  },
  {
   "cell_type": "code",
   "execution_count": 4,
   "id": "c14347aa-0b81-417a-8e1b-06072f1ea7c6",
   "metadata": {},
   "outputs": [
    {
     "data": {
      "text/html": [
       "<div>\n",
       "<style scoped>\n",
       "    .dataframe tbody tr th:only-of-type {\n",
       "        vertical-align: middle;\n",
       "    }\n",
       "\n",
       "    .dataframe tbody tr th {\n",
       "        vertical-align: top;\n",
       "    }\n",
       "\n",
       "    .dataframe thead th {\n",
       "        text-align: right;\n",
       "    }\n",
       "</style>\n",
       "<table border=\"1\" class=\"dataframe\">\n",
       "  <thead>\n",
       "    <tr style=\"text-align: right;\">\n",
       "      <th></th>\n",
       "      <th>tripduration</th>\n",
       "      <th>starttime</th>\n",
       "      <th>stoptime</th>\n",
       "      <th>start station id</th>\n",
       "      <th>start station name</th>\n",
       "      <th>start station latitude</th>\n",
       "      <th>start station longitude</th>\n",
       "      <th>end station id</th>\n",
       "      <th>end station name</th>\n",
       "      <th>end station latitude</th>\n",
       "      <th>end station longitude</th>\n",
       "      <th>bikeid</th>\n",
       "      <th>usertype</th>\n",
       "      <th>birth year</th>\n",
       "      <th>gender</th>\n",
       "    </tr>\n",
       "  </thead>\n",
       "  <tbody>\n",
       "    <tr>\n",
       "      <th>0</th>\n",
       "      <td>1635</td>\n",
       "      <td>2018-09-01 00:00:05.2690</td>\n",
       "      <td>2018-09-01 00:27:20.6340</td>\n",
       "      <td>252.0</td>\n",
       "      <td>MacDougal St &amp; Washington Sq</td>\n",
       "      <td>40.732264</td>\n",
       "      <td>-73.998522</td>\n",
       "      <td>366.0</td>\n",
       "      <td>Clinton Ave &amp; Myrtle Ave</td>\n",
       "      <td>40.693261</td>\n",
       "      <td>-73.968896</td>\n",
       "      <td>25577</td>\n",
       "      <td>Subscriber</td>\n",
       "      <td>1980</td>\n",
       "      <td>1</td>\n",
       "    </tr>\n",
       "    <tr>\n",
       "      <th>1</th>\n",
       "      <td>132</td>\n",
       "      <td>2018-09-01 00:00:11.2810</td>\n",
       "      <td>2018-09-01 00:02:23.4810</td>\n",
       "      <td>314.0</td>\n",
       "      <td>Cadman Plaza West &amp; Montague St</td>\n",
       "      <td>40.693830</td>\n",
       "      <td>-73.990539</td>\n",
       "      <td>3242.0</td>\n",
       "      <td>Schermerhorn St &amp; Court St</td>\n",
       "      <td>40.691029</td>\n",
       "      <td>-73.991834</td>\n",
       "      <td>34377</td>\n",
       "      <td>Subscriber</td>\n",
       "      <td>1969</td>\n",
       "      <td>0</td>\n",
       "    </tr>\n",
       "    <tr>\n",
       "      <th>2</th>\n",
       "      <td>3337</td>\n",
       "      <td>2018-09-01 00:00:20.6490</td>\n",
       "      <td>2018-09-01 00:55:58.5470</td>\n",
       "      <td>3142.0</td>\n",
       "      <td>1 Ave &amp; E 62 St</td>\n",
       "      <td>40.761227</td>\n",
       "      <td>-73.960940</td>\n",
       "      <td>3384.0</td>\n",
       "      <td>Smith St &amp; 3 St</td>\n",
       "      <td>40.678724</td>\n",
       "      <td>-73.995991</td>\n",
       "      <td>30496</td>\n",
       "      <td>Subscriber</td>\n",
       "      <td>1975</td>\n",
       "      <td>1</td>\n",
       "    </tr>\n",
       "    <tr>\n",
       "      <th>3</th>\n",
       "      <td>436</td>\n",
       "      <td>2018-09-01 00:00:21.7460</td>\n",
       "      <td>2018-09-01 00:07:38.5830</td>\n",
       "      <td>308.0</td>\n",
       "      <td>St James Pl &amp; Oliver St</td>\n",
       "      <td>40.713079</td>\n",
       "      <td>-73.998512</td>\n",
       "      <td>3690.0</td>\n",
       "      <td>Park Pl &amp; Church St</td>\n",
       "      <td>40.713342</td>\n",
       "      <td>-74.009355</td>\n",
       "      <td>28866</td>\n",
       "      <td>Subscriber</td>\n",
       "      <td>1984</td>\n",
       "      <td>2</td>\n",
       "    </tr>\n",
       "    <tr>\n",
       "      <th>4</th>\n",
       "      <td>8457</td>\n",
       "      <td>2018-09-01 00:00:27.3150</td>\n",
       "      <td>2018-09-01 02:21:25.3080</td>\n",
       "      <td>345.0</td>\n",
       "      <td>W 13 St &amp; 6 Ave</td>\n",
       "      <td>40.736494</td>\n",
       "      <td>-73.997044</td>\n",
       "      <td>380.0</td>\n",
       "      <td>W 4 St &amp; 7 Ave S</td>\n",
       "      <td>40.734011</td>\n",
       "      <td>-74.002939</td>\n",
       "      <td>20943</td>\n",
       "      <td>Customer</td>\n",
       "      <td>1994</td>\n",
       "      <td>1</td>\n",
       "    </tr>\n",
       "  </tbody>\n",
       "</table>\n",
       "</div>"
      ],
      "text/plain": [
       "   tripduration                 starttime                  stoptime  \\\n",
       "0          1635  2018-09-01 00:00:05.2690  2018-09-01 00:27:20.6340   \n",
       "1           132  2018-09-01 00:00:11.2810  2018-09-01 00:02:23.4810   \n",
       "2          3337  2018-09-01 00:00:20.6490  2018-09-01 00:55:58.5470   \n",
       "3           436  2018-09-01 00:00:21.7460  2018-09-01 00:07:38.5830   \n",
       "4          8457  2018-09-01 00:00:27.3150  2018-09-01 02:21:25.3080   \n",
       "\n",
       "   start station id               start station name  start station latitude  \\\n",
       "0             252.0     MacDougal St & Washington Sq               40.732264   \n",
       "1             314.0  Cadman Plaza West & Montague St               40.693830   \n",
       "2            3142.0                  1 Ave & E 62 St               40.761227   \n",
       "3             308.0          St James Pl & Oliver St               40.713079   \n",
       "4             345.0                  W 13 St & 6 Ave               40.736494   \n",
       "\n",
       "   start station longitude  end station id            end station name  \\\n",
       "0               -73.998522           366.0    Clinton Ave & Myrtle Ave   \n",
       "1               -73.990539          3242.0  Schermerhorn St & Court St   \n",
       "2               -73.960940          3384.0             Smith St & 3 St   \n",
       "3               -73.998512          3690.0         Park Pl & Church St   \n",
       "4               -73.997044           380.0            W 4 St & 7 Ave S   \n",
       "\n",
       "   end station latitude  end station longitude  bikeid    usertype  \\\n",
       "0             40.693261             -73.968896   25577  Subscriber   \n",
       "1             40.691029             -73.991834   34377  Subscriber   \n",
       "2             40.678724             -73.995991   30496  Subscriber   \n",
       "3             40.713342             -74.009355   28866  Subscriber   \n",
       "4             40.734011             -74.002939   20943    Customer   \n",
       "\n",
       "   birth year  gender  \n",
       "0        1980       1  \n",
       "1        1969       0  \n",
       "2        1975       1  \n",
       "3        1984       2  \n",
       "4        1994       1  "
      ]
     },
     "execution_count": 4,
     "metadata": {},
     "output_type": "execute_result"
    }
   ],
   "source": [
    "df = pd.read_csv ('201809-citibike-tripdata.csv')\n",
    "df.head()"
   ]
  },
  {
   "cell_type": "code",
   "execution_count": 5,
   "id": "eea33809-ff59-4fd5-92ff-1505e3e6a0ae",
   "metadata": {},
   "outputs": [
    {
     "name": "stdout",
     "output_type": "stream",
     "text": [
      "[[1635]\n",
      " [ 132]\n",
      " [3337]\n",
      " ...\n",
      " [1442]\n",
      " [ 453]\n",
      " [1354]]\n"
     ]
    }
   ],
   "source": [
    "x = df[['tripduration']].values.reshape(-1,1)\n",
    "y = 2022 - df[['birth year']].values.reshape(-1,1)\n",
    "print(x)"
   ]
  },
  {
   "cell_type": "code",
   "execution_count": 6,
   "id": "0af2d06c-931a-447d-b849-fda05414af96",
   "metadata": {},
   "outputs": [],
   "source": [
    "# Calculate the distance between start and end stations. Expensive operation and needs to run for couple minutes.\n",
    "import geopy.distance\n",
    "\n",
    "coords_1 = df[['start station latitude','start station longitude']].values\n",
    "coords_2 = df[['end station latitude','end station longitude']].values\n",
    "\n",
    "distances = []\n",
    "for i in range(len(coords_1)):\n",
    "    distances.append(geopy.distance.geodesic(coords_1[i], coords_2[i]).km)"
   ]
  },
  {
   "cell_type": "code",
   "execution_count": 7,
   "id": "b816642c-93e2-4ed5-bcfe-9c4fb8a2c648",
   "metadata": {},
   "outputs": [
    {
     "name": "stdout",
     "output_type": "stream",
     "text": [
      "[[1.63500000e+03 5.00263577e+00]\n",
      " [1.32000000e+02 3.29706028e-01]\n",
      " [3.33700000e+03 9.62859219e+00]\n",
      " ...\n",
      " [1.44200000e+03 5.57044674e+00]\n",
      " [4.53000000e+02 8.98595252e-01]\n",
      " [1.35400000e+03 4.13758643e+00]]\n"
     ]
    }
   ],
   "source": [
    "import numpy as np\n",
    "\n",
    "distances = np.array(distances).reshape(-1,1)\n",
    "x = np.append(x, distances, axis=1)\n",
    "print(x)"
   ]
  },
  {
   "cell_type": "code",
   "execution_count": 19,
   "id": "c8adc1d3-c3c1-4cf5-8e0f-d524c499aeee",
   "metadata": {},
   "outputs": [
    {
     "name": "stdout",
     "output_type": "stream",
     "text": [
      "[ True  True  True ...  True  True  True]\n",
      "[0. 0.]\n",
      "[1. 1.]\n",
      "[0.00037281 0.10683202]\n",
      "(1877884, 2)\n",
      "(1877884, 1)\n",
      "(1877884, 2)\n"
     ]
    },
    {
     "data": {
      "image/png": "[encoded data removed]",
      "text/plain": [
       "<Figure size 432x288 with 1 Axes>"
      ]
     },
     "metadata": {
      "needs_background": "light"
     },
     "output_type": "display_data"
    }
   ],
   "source": [
    "index = x[:,0]<1e6\n",
    "print(index)\n",
    "new_x = x\n",
    "new_y = y\n",
    "\n",
    "#x1 = (new_x - new_x.mean(axis=0))/ new_x.std(axis=0)\n",
    "x1 = (new_x - new_x.min(axis=0))/ (new_x.max(axis=0) - new_x.min(axis=0))\n",
    "\n",
    "import matplotlib.pyplot as plt\n",
    "plt.boxplot(x1)\n",
    "\n",
    "print(x1.min(axis=0))\n",
    "print(x1.max(axis=0))\n",
    "print(x1.mean(axis=0))\n",
    "\n",
    "print(new_x.shape)\n",
    "print(new_y.shape)\n",
    "print(x1.shape)\n",
    "\n"
   ]
  },
  {
   "cell_type": "code",
   "execution_count": 227,
   "id": "cfb287cf-e582-4a66-b582-5b5070be02bc",
   "metadata": {},
   "outputs": [
    {
     "name": "stdout",
     "output_type": "stream",
     "text": [
      "[42.55121853]\n",
      "[[ 1.20029861e-05 -1.66834520e-01]]\n",
      "        Actual  Predicted\n",
      "0           29  42.391201\n",
      "1           35  42.202038\n",
      "2           53  42.589472\n",
      "3           31  42.257461\n",
      "4           36  42.384858\n",
      "...        ...        ...\n",
      "187784      55  42.234092\n",
      "187785      40  42.096383\n",
      "187786      40  42.309674\n",
      "187787      33  42.408311\n",
      "187788      44  41.973019\n",
      "\n",
      "[187789 rows x 2 columns]\n"
     ]
    }
   ],
   "source": [
    "# Use linear regression.\n",
    "from sklearn.model_selection import train_test_split\n",
    "x_train, x_test, y_train, y_test = train_test_split(x, y, test_size = 0.1, random_state = 10)\n",
    "\n",
    "from sklearn.linear_model import LinearRegression\n",
    "regressor = LinearRegression()\n",
    "\n",
    "regressor.fit(x_train,y_train)\n",
    "\n",
    "print(regressor.intercept_)\n",
    "print(regressor.coef_)\n",
    "\n",
    "y_pred = regressor.predict(x_test)\n",
    "\n",
    "df_preds = pd.DataFrame({'Actual': y_test.squeeze(), 'Predicted': y_pred.squeeze()})\n",
    "print(df_preds)"
   ]
  },
  {
   "cell_type": "code",
   "execution_count": 21,
   "id": "03a9de6d-3c78-4d37-baf6-838ec5c1e31a",
   "metadata": {},
   "outputs": [
    {
     "name": "stdout",
     "output_type": "stream",
     "text": [
      "(1877884, 2)\n",
      "(1877884, 1)\n",
      "        Actual  Predicted\n",
      "0            0          0\n",
      "1            0          0\n",
      "2            0          0\n",
      "3            0          0\n",
      "4            0          0\n",
      "...        ...        ...\n",
      "187784       0          0\n",
      "187785       0          0\n",
      "187786       0          0\n",
      "187787       0          0\n",
      "187788       0          0\n",
      "\n",
      "[187789 rows x 2 columns]\n"
     ]
    },
    {
     "data": {
      "text/plain": [
       "0.53879401995359"
      ]
     },
     "execution_count": 21,
     "metadata": {},
     "output_type": "execute_result"
    },
    {
     "data": {
      "image/png": "[encoded data removed]",
      "text/plain": [
       "<Figure size 432x288 with 1 Axes>"
      ]
     },
     "metadata": {
      "needs_background": "light"
     },
     "output_type": "display_data"
    }
   ],
   "source": [
    "# Use logistic regression\n",
    "from sklearn.linear_model import LogisticRegression\n",
    "from sklearn.model_selection import train_test_split\n",
    "\n",
    "print(x1.shape)\n",
    "print(new_y.shape)\n",
    "x_train, x_test, y_train, y_test = train_test_split(x1, new_y, test_size = 0.1, random_state = 10)\n",
    "\n",
    "def classify(x):\n",
    "    x = np.where(x<60,0,1)\n",
    "    return x\n",
    "y_train = classify(y_train)\n",
    "y_test = classify(y_test)\n",
    "\n",
    "plt.hist(y_train)\n",
    "\n",
    "regressor = LogisticRegression()\n",
    "regressor.fit(x_train,y_train.squeeze())\n",
    "\n",
    "y_pred = regressor.predict(x_test)\n",
    "df_preds = pd.DataFrame({'Actual': y_test.squeeze(), 'Predicted': y_pred.squeeze()})\n",
    "print(df_preds)\n",
    "\n",
    "from sklearn.metrics import roc_auc_score\n",
    "roc_auc_score(y_test, regressor.decision_function(x_test))\n"
   ]
  },
  {
   "cell_type": "code",
   "execution_count": 18,
   "id": "7317614a-e1de-4219-8715-a4c658d82b6a",
   "metadata": {},
   "outputs": [
    {
     "data": {
      "text/plain": [
       "0.8720458394129488"
      ]
     },
     "execution_count": 18,
     "metadata": {},
     "output_type": "execute_result"
    }
   ],
   "source": [
    "regressor.score(x_test,y_test)"
   ]
  },
  {
   "cell_type": "code",
   "execution_count": 254,
   "id": "65fc2391-d49d-424a-a39f-722ba7d87190",
   "metadata": {},
   "outputs": [
    {
     "name": "stdout",
     "output_type": "stream",
     "text": [
      "[0 0 0 ... 0 0 0]\n",
      "7703\n",
      "67979\n",
      "0\n"
     ]
    }
   ],
   "source": [
    "print(y_pred)\n",
    "type(y_pred)\n",
    "count = np.count_nonzero(y_test)\n",
    "print(count)\n",
    "count = np.count_nonzero(y_train.squeeze())\n",
    "print(count)\n",
    "count = np.count_nonzero(y_pred)\n",
    "print(count)\n",
    "\n"
   ]
  },
  {
   "cell_type": "code",
   "execution_count": 260,
   "id": "7039c759-13e6-40bf-861d-ec80ea44283c",
   "metadata": {},
   "outputs": [
    {
     "name": "stdout",
     "output_type": "stream",
     "text": [
      "[61.  0.]\n",
      "[2.43165100e+06 1.69316776e+01]\n",
      "[967.51491892   1.8088454 ]\n"
     ]
    }
   ],
   "source": [
    "print(x.min(axis=0))\n",
    "print(x.max(axis=0))\n",
    "print(x.mean(axis=0))"
   ]
  }
 ],
 "metadata": {
  "kernelspec": {
   "display_name": "Python 3 (ipykernel)",
   "language": "python",
   "name": "python3"
  },
  "language_info": {
   "codemirror_mode": {
    "name": "ipython",
    "version": 3
   },
   "file_extension": ".py",
   "mimetype": "text/x-python",
   "name": "python",
   "nbconvert_exporter": "python",
   "pygments_lexer": "ipython3",
   "version": "3.10.5"
  }
 },
 "nbformat": 4,
 "nbformat_minor": 5
}
